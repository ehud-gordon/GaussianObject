{
 "cells": [
  {
   "cell_type": "markdown",
   "metadata": {},
   "source": [
    "# Geometric Computer Vision 236861 Final Project\n",
    "## Winter 2023-2024\n",
    "## by: Eldad Matmon and Ehud Gordon"
   ]
  },
  {
   "cell_type": "markdown",
   "metadata": {},
   "source": [
    "# Introduction\n",
    "In July 2023, \"3D Gaussian Splatting for Real-Time Radiance Field Rendering\" by inria suggested Gaussian Splatting as a high-quality real-time alternative to Novel View Synthesis. The method optimizes parameters of 3D Gaussians with respect to input images.\n",
    "NVS is challenging in few-shot settings, as it introduces  presents a challenge to NVS, as they introduce ambiguity and , as the quality of the NVS declines the further we are from the input views. "
   ]
  },
  {
   "cell_type": "markdown",
   "metadata": {},
   "source": [
    "# Pipeline"
   ]
  },
  {
   "cell_type": "markdown",
   "metadata": {},
   "source": [
    "# Results"
   ]
  }
 ],
 "metadata": {
  "kernelspec": {
   "display_name": "gobj",
   "language": "python",
   "name": "python3"
  },
  "language_info": {
   "name": "python",
   "version": "3.8.19"
  }
 },
 "nbformat": 4,
 "nbformat_minor": 4
}
